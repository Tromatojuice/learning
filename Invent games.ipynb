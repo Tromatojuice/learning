{
 "cells": [
  {
   "cell_type": "code",
   "execution_count": 5,
   "metadata": {},
   "outputs": [],
   "source": [
    "def drawBoard(board):\n",
    "    print(board[7] + '|' + board[8] + '|' + board[9])\n",
    "    print('-+-+-')\n",
    "    print(board[4] + '|' + board[5] + '|' + board[6])\n",
    "    print('-+-+-')\n",
    "    print(board[1] + '|' + board[2] + '|' + board[3])"
   ]
  },
  {
   "cell_type": "code",
   "execution_count": 9,
   "metadata": {},
   "outputs": [
    {
     "name": "stdout",
     "output_type": "stream",
     "text": [
      "X| |O\n",
      "-+-+-\n",
      "X|O|\n",
      "-+-+-\n",
      " | | \n"
     ]
    }
   ],
   "source": [
    "drawBoard([' ',' ',' ', ' ', 'X', 'O','','X',' ','O'])"
   ]
  },
  {
   "cell_type": "code",
   "execution_count": 14,
   "metadata": {},
   "outputs": [],
   "source": [
    "def inputPlayerLetter():\n",
    "    letter=''\n",
    "    while not (letter == 'X' or letter == 'O'):\n",
    "        print('Do you want to be X or O?')\n",
    "        letter = input().upper()\n",
    "    if letter =='X':\n",
    "        return['X','O']\n",
    "    else:\n",
    "        return['O', 'X']"
   ]
  },
  {
   "cell_type": "code",
   "execution_count": 15,
   "metadata": {},
   "outputs": [
    {
     "name": "stdout",
     "output_type": "stream",
     "text": [
      "Do you want to be X or O?\n",
      "O\n"
     ]
    },
    {
     "data": {
      "text/plain": [
       "['O', 'X']"
      ]
     },
     "execution_count": 15,
     "metadata": {},
     "output_type": "execute_result"
    }
   ],
   "source": [
    "inputPlayerLetter()"
   ]
  },
  {
   "cell_type": "code",
   "execution_count": 16,
   "metadata": {},
   "outputs": [],
   "source": [
    "import random\n",
    "\n",
    "def whoGoesFirst():\n",
    "    if random.randint(0,1) == 0: \n",
    "        return 'computer'\n",
    "    else:\n",
    "        return 'player'"
   ]
  },
  {
   "cell_type": "code",
   "execution_count": null,
   "metadata": {},
   "outputs": [],
   "source": []
  }
 ],
 "metadata": {
  "kernelspec": {
   "display_name": "Python 3",
   "language": "python",
   "name": "python3"
  },
  "language_info": {
   "codemirror_mode": {
    "name": "ipython",
    "version": 3
   },
   "file_extension": ".py",
   "mimetype": "text/x-python",
   "name": "python",
   "nbconvert_exporter": "python",
   "pygments_lexer": "ipython3",
   "version": "3.6.5"
  }
 },
 "nbformat": 4,
 "nbformat_minor": 2
}
