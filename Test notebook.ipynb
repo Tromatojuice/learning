{
 "cells": [
  {
   "cell_type": "code",
   "execution_count": null,
   "metadata": {},
   "outputs": [],
   "source": [
    "import re"
   ]
  },
  {
   "cell_type": "code",
   "execution_count": null,
   "metadata": {},
   "outputs": [],
   "source": [
    "phoneNumRegex = re.compile(r'(\\d\\d\\d)-(\\d\\d\\d-\\d\\d\\d\\d)')"
   ]
  },
  {
   "cell_type": "code",
   "execution_count": null,
   "metadata": {},
   "outputs": [],
   "source": [
    "mo = phoneNumRegex.search('My number is 425-345-6588')"
   ]
  },
  {
   "cell_type": "code",
   "execution_count": null,
   "metadata": {},
   "outputs": [],
   "source": [
    "mo.group()"
   ]
  },
  {
   "cell_type": "code",
   "execution_count": null,
   "metadata": {},
   "outputs": [],
   "source": [
    "batRegex =re.compile(r'Bat(wo)?man')"
   ]
  },
  {
   "cell_type": "code",
   "execution_count": null,
   "metadata": {},
   "outputs": [],
   "source": [
    "mo1 = batRegex.search('The Adventures of Batwoman')"
   ]
  },
  {
   "cell_type": "code",
   "execution_count": null,
   "metadata": {},
   "outputs": [],
   "source": [
    "mo1.group()"
   ]
  },
  {
   "cell_type": "code",
   "execution_count": null,
   "metadata": {},
   "outputs": [],
   "source": [
    "haRegex = re.compile(r'(ha){3}')"
   ]
  },
  {
   "cell_type": "code",
   "execution_count": null,
   "metadata": {},
   "outputs": [],
   "source": [
    "mo1 = haRegex.search('Hahaha')"
   ]
  },
  {
   "cell_type": "code",
   "execution_count": null,
   "metadata": {},
   "outputs": [],
   "source": [
    "mo1.group()"
   ]
  },
  {
   "cell_type": "code",
   "execution_count": null,
   "metadata": {},
   "outputs": [],
   "source": [
    "#List sorting\n",
    "a_list = []\n",
    "format_string = '{:>2}. {:>3}'\n",
    "while True:\n",
    "    str1 = input('Enter name: ')\n",
    "    if str1 == '':\n",
    "        break\n",
    "    a_list.append(str1)\n",
    "#a_list = [int(i) for i in a_list] <-- apparently I did not need that?!\n",
    "a_list.sort()\n",
    "print('\\nHere are your names:')\n",
    "for i, str1 in enumerate(a_list, 1):\n",
    "    print(format_string.format(i, str1))\n",
    "print('The list is ' + str(len(a_list)) + ' items long')"
   ]
  },
  {
   "cell_type": "markdown",
   "metadata": {},
   "source": [
    "in_str = input('Enter items: ')\n",
    "a_list = in_str.split("
   ]
  },
  {
   "cell_type": "code",
   "execution_count": null,
   "metadata": {},
   "outputs": [],
   "source": [
    "#This program breaks a given string into separated words and returns a string of words in alpha order \n",
    "in_str = input('Enter items: ')\n",
    "a_list = in_str.split(',')\n",
    "a_list = [i.strip() for i in a_list]\n",
    "a_list.sort()\n",
    "sep = \n",
    "print(' '.join(a_list))"
   ]
  },
  {
   "cell_type": "code",
   "execution_count": null,
   "metadata": {},
   "outputs": [],
   "source": [
    "#This program breaks a string into separated words and returns a list in alpha order\n",
    "in_str = input('Enter items: ')\n",
    "a_list = in_str.split(',')\n",
    "a_list = [i.strip() for i in a_list]\n",
    "a_list.sort()\n",
    "print(a_list[0:len(a_list)])"
   ]
  },
  {
   "cell_type": "code",
   "execution_count": null,
   "metadata": {},
   "outputs": [],
   "source": [
    "#This program tells if a given sentence is a Palyndrome\n",
    "input_str = input('Enter input string here: ')\n",
    "output_str = input_str.upper()\n",
    "s = []\n",
    "s = [ch for ch in output_str if ch.isalpha()]\n",
    "s = ''.join(s)\n",
    "print(s)\n",
    "if s == s[::-1]:\n",
    "    print('This is a palyndrome!')\n",
    "else:\n",
    "    print('This is not a palyndrome!')"
   ]
  },
  {
   "cell_type": "code",
   "execution_count": null,
   "metadata": {},
   "outputs": [],
   "source": [
    "print(s[-1::-1])"
   ]
  },
  {
   "cell_type": "code",
   "execution_count": null,
   "metadata": {},
   "outputs": [],
   "source": [
    "import random \n",
    "\n",
    "words = {'Colors' : 'red orange yellow green blue indigo violet white black brown'.split(),\n",
    "'Shapes' : 'square triangle rectangle circle ellipse rhombus trapezoid'.split(),\n",
    "'Fruits' : 'apple orange lemon lime pear watermelon grape grapefruit cherry banana'.split()}\n",
    "\n",
    "def getRandomWord(wordDict):\n",
    "# returns a random string from the passed list of string\n",
    "    wordKey = random.choice(list(wordDict.keys()))\n",
    "    wordIndex = random.randint(0, len(wordDict[wordKey]) - 1)\n",
    "    return [wordDict[wordKey][wordIndex]]"
   ]
  },
  {
   "cell_type": "code",
   "execution_count": null,
   "metadata": {},
   "outputs": [],
   "source": [
    "getRandomWord(words)"
   ]
  },
  {
   "cell_type": "code",
   "execution_count": null,
   "metadata": {},
   "outputs": [],
   "source": [
    "#This program returns the email addresses and phone number from a chunk of text copied to clipboard.\n",
    "\n",
    "import pyperclip, re\n",
    "#phone Regex\n",
    "phoneRegex = re.compile(r'''(\n",
    "(\\d{3}|\\(\\d{3}\\))?\n",
    "(\\s|-|\\.)?\n",
    "(\\d{3})\n",
    "(\\s|-|\\.)\n",
    "(\\d{4})\n",
    "(\\s*(ext|x|ext.)\\s*(\\d{2,5}))?\n",
    ")''', re.VERBOSE)\n",
    "\n",
    "#email regex\n",
    "emailRegex = re.compile(r'''(\n",
    "[a-zA-Z0-9._%+-]+\n",
    "@\n",
    "[a-zA-Z0-9.-]+\n",
    "(\\.[a-zA-Z]{2,4})\n",
    ")''', re.VERBOSE)\n",
    "\n",
    "#Find matches in clipboard\n",
    "text = str(pyperclip.paste())\n",
    "matches = []\n",
    "for groups in phoneRegex.findall(text):\n",
    "    phoneNum = '-'.join([groups[1], groups[3], groups[5]])\n",
    "    if groups[8] != '':\n",
    "        phoneNum += ' x' + groups[8]\n",
    "    matches.append(phoneNum)\n",
    "for groups in emailRegex.findall(text):\n",
    "    matches.append(groups[0])\n",
    "\n",
    "#copy results to clipboard\n",
    "if len(matches) > 0:\n",
    "    pyperclip.copy('\\n'.join(matches))\n",
    "    print('copied to cliboard:')\n",
    "    print('\\n'.join(matches))"
   ]
  },
  {
   "cell_type": "code",
   "execution_count": null,
   "metadata": {},
   "outputs": [],
   "source": [
    "#Python without fear: chap 8 - encoder\n",
    "input_str = input('Enter string to encode: ')\n",
    "a_list = []\n",
    "for ch in input_str:\n",
    "    n = ord(ch) +1\n",
    "    if ch.isupper() and n > ord('Z'):\n",
    "        n -=26\n",
    "    elif ch.islower() and n > ord('z'):\n",
    "        n -=26\n",
    "    #for each character, it will append the letter corresponding to n\n",
    "    if ch.isalpha():\n",
    "        a_list.append(chr(n))\n",
    "    else:\n",
    "        a_list.append(ch)\n",
    "s = ''.join(a_list)\n",
    "print('Coded string is', s)"
   ]
  },
  {
   "cell_type": "code",
   "execution_count": null,
   "metadata": {},
   "outputs": [],
   "source": [
    "#Python without fear: 8.3.2 - encoder with shiftable num\n",
    "\n",
    "input_str = input('Enter string to encode: ')\n",
    "shift = input('Enter a shifting number: ')\n",
    "\n",
    "while shift.isdigit() == False:\n",
    "    import time\n",
    "    print('This is not a number.')\n",
    "    time.sleep(1)\n",
    "    shift = input('Please enter a shifting number: ')\n",
    "    \n",
    "shift = int(shift)\n",
    "\n",
    "#in case the shift entered is superior to the length of the alphabet\n",
    "\n",
    "if shift > 25:\n",
    "    #as long as the divisor is =>24 we should be good\n",
    "    shift = shift % 24\n",
    "    print('The shift is now ' + str(shift) + '.')\n",
    "    \n",
    "\n",
    "a_list = []\n",
    "for ch in input_str:\n",
    "    n = ord(ch) + shift\n",
    "    if ch.isupper() and n > ord('Z'):\n",
    "        n -=26\n",
    "    elif ch.islower() and n > ord('z'):\n",
    "        n -=26\n",
    "    #for each character, it will append the letter corresponding to n\n",
    "    if ch.isalpha():\n",
    "        a_list.append(chr(n))\n",
    "    else:\n",
    "        a_list.append(ch)\n",
    "s = ''.join(a_list)\n",
    "print('Coded string is', s)"
   ]
  },
  {
   "cell_type": "code",
   "execution_count": null,
   "metadata": {},
   "outputs": [],
   "source": [
    "print(ord('v'))"
   ]
  },
  {
   "cell_type": "code",
   "execution_count": null,
   "metadata": {},
   "outputs": [],
   "source": [
    "# testing a code to bring shift to a 0 to 24 range\n",
    "\n",
    "shift = input('Enter a shifting number: ')\n",
    "\n",
    "while shift.isdigit() == False: \n",
    "    shift = input('Enter a shifting number: ')\n",
    "    \n",
    "shift = int(shift)\n",
    "    \n",
    "if shift > 25:\n",
    "    #as long as the divisor is =>24 we should be good\n",
    "    shift = shift % 24\n",
    "    print('The shift is now ' + str(shift) + '.')"
   ]
  },
  {
   "cell_type": "code",
   "execution_count": 9,
   "metadata": {},
   "outputs": [],
   "source": [
    "VALID_COLORS = ['blue', 'yellow', 'red']\n",
    "\n",
    "def print_colors():\n",
    "    \"\"\"Ask for color, lowercase it, check if 'quit' is entered, if so print\n",
    "       'bye' and break, next check if given color is in VALID_COLORS, if not,\n",
    "       continue, finally if that check passes, print the color\"\"\"\n",
    "    input_color = input(\"color?\")\n",
    "    while True:\n",
    "        if input_color.lower() == 'quit':\n",
    "            break\n",
    "        elif input_color.lower() in VALID_COLORS:\n",
    "            return input_color.lower()\n",
    "        else:\n",
    "            input_color = input(\"color?\")\n",
    "            contin"
   ]
  },
  {
   "cell_type": "code",
   "execution_count": null,
   "metadata": {},
   "outputs": [
    {
     "name": "stdout",
     "output_type": "stream",
     "text": [
      "color?red\n",
      "red\n"
     ]
    }
   ],
   "source": [
    "print_colors()"
   ]
  },
  {
   "cell_type": "code",
   "execution_count": 12,
   "metadata": {},
   "outputs": [],
   "source": [
    "message = \"\"\"Hello world!\n",
    "We hope that you are learning a lot of Python.\n",
    "Have fun with our Bites of Py.\n",
    "Keep calm and code in Python!\n",
    "Become a PyBites ninja!\"\"\"\n",
    "\n",
    "def split_in_columns(message=message):\n",
    "    \"\"\"Split the message by newline (\\n) and join it together on '|'\n",
    "       (pipe), return the obtained output\"\"\"\n",
    "    message = message.split(\"\\n\")\n",
    "    print(\"|\".join(message))\n",
    "    \n",
    "    pass"
   ]
  },
  {
   "cell_type": "code",
   "execution_count": 13,
   "metadata": {},
   "outputs": [
    {
     "name": "stdout",
     "output_type": "stream",
     "text": [
      "Hello world!|We hope that you are learning a lot of Python.|Have fun with our Bites of Py.|Keep calm and code in Python!|Become a PyBites ninja!\n"
     ]
    }
   ],
   "source": [
    "split_in_columns(message=message)"
   ]
  },
  {
   "cell_type": "code",
   "execution_count": 48,
   "metadata": {},
   "outputs": [
    {
     "name": "stdout",
     "output_type": "stream",
     "text": [
      "copied to cliboard:\n",
      "\n",
      "Welcome to CAFE! The Coast and Forest Events group(C.A.F.E.)\n",
      "\n",
      "\n",
      "This Meetup group is aimed at people who live in or around the southern, coastal part of the New Forest – hence the name. We aim to help each other perk up our social lives, by making the most of the excellent leisure facilities and venues we have here locally, right on our doorsteps! If you are “Mid-Life\" (!), and maybe find yourself unexpectedly single, there are times when you probably feel like going out to see a film or play or to a comedy night, for a meal, for a walk, for a drink, or even just for a coffee. There's lots to do, but it's not so much fun on your own! This could be the group for you.\n",
      "\n",
      "\n",
      "Post up here an event or activity you'd really like to go to, and find out if anyone else would like to go along too! We offer friendship and, mostly-inexpensive, local social activities (pub quizzes, meals, walks, live music, a drink at a country pub on a Sunday evening) - while also keeping an eye out for bigger local events, as well as those in Bournemouth, Southampton and beyond for when we feel like making the extra effort!\n",
      "\n",
      "\n",
      "People of any age and location are welcome, but please bear in mind that most events may take place within an area roughly Lyndhurst to Lymington, Christchurch to Calshot, or close by, and that activities will be focused on the \"mid-life\" age range. While most members are single, the group is open to sociable singles and non singles alike, (and especially to those who want to actively contribute events to the group!) So, if you want to meet new people, please join! \n",
      "\n",
      "\n",
      "CAFE Meetup is exists solely to help its members have Fun! The organisers give their time voluntarily, and reserve the right to exclude from membership anyone they believe intends to use the group for purposes other than …. Fun! Group running costs (website, admin etc) have mostly been covered by occasional small profits on events in the past, but a one-off fee of £5 is now payable by new and existing members (from 23rd June, 2015).   This can be paid online by clicking on the button on the HomePage.   If you are unable to use the online payment system for any reason (and please note that you do NOT have to have a Paypal account yourself to do this) please contact the Organiser, David Hughes for alternative methods of payment. \n",
      "\n",
      "\n",
      "\n",
      "One last point, profiles on the CAFE site are only visible to other CAFE members. The organisers have now agreed that we would like all members to identify themselves on their profiles with <b>a first name AND a surname (or an initial of it, if you want to keep your surname private)</b> and a clear facial photograph. This is for a variety of reasons to do with the need to be able to accurately and easily identify members booking (and sometimes paying) for public or private events organised within the group. \n",
      " <b> \n",
      " A first name only, is not acceptable</b>. Please make sure that your profile meets these minimum standards before applying to join the group.\n",
      "\n",
      "\n",
      "We hope to meet you soon at a CAFE event. \n",
      "\n",
      "\n",
      "David, Gail, Debs and the other CAFE organisers.\n",
      "\n",
      "\n",
      "<span><strong>How to change the name on your Meetup profile.</strong></span>\n",
      "\n",
      "\n",
      "Click '<a href=\"http://www.meetup.com/account\"><strong>Account</strong></a>' in the upper right-hand corner of your screen to head to your Account page. \n",
      " \n",
      " From the <strong>'General'</strong> tab, click <strong>edit</strong> next to your current name. Enter a new name in the space provided, and click <strong>'Submit.'</strong> \n",
      " \n",
      " <strong>Note:</strong> Your name is a site-wide account setting, which means that you cannot select different names for each Meetup Group that you belong to.\n",
      "\n"
     ]
    }
   ],
   "source": [
    "#Import a text that has <BR> and </B> and export a text with the proper paragraphs\n",
    "import pyperclip, re\n",
    "\n",
    "#function to strip HTML tags\n",
    "\n",
    "TAG_RE = re.compile(r'<[^>]+>')\n",
    "\n",
    "def remove_tags(text):\n",
    "    return TAG_RE.sub('', text)\n",
    "\n",
    "#program to strip the description \n",
    "\n",
    "text = str(pyperclip.paste())\n",
    "split_text = text.split('</p>')\n",
    "split_text = '\\n'.join(split_text)\n",
    "#split_text = split_text.split(\"<p>\")\n",
    "#split_text = '\\n'.join(split_text)\n",
    "split_text = split_text.split(\"<br>\")\n",
    "split_text ='\\n'.join(split_text)\n",
    "\n",
    "#stripping the remaining tags\n",
    "text = remove_tags(split_text)\n",
    "\n",
    "pyperclip.copy(text)\n",
    "print('copied to cliboard:')\n",
    "print(text)"
   ]
  },
  {
   "cell_type": "code",
   "execution_count": 35,
   "metadata": {},
   "outputs": [
    {
     "data": {
      "text/plain": [
       "str"
      ]
     },
     "execution_count": 35,
     "metadata": {},
     "output_type": "execute_result"
    }
   ],
   "source": [
    "type(split_text)"
   ]
  },
  {
   "cell_type": "code",
   "execution_count": 39,
   "metadata": {},
   "outputs": [],
   "source": [
    "def remove_tags(text):\n",
    "    ''.join(xml.etree.ElementTree.fromstring(text).itertext())"
   ]
  },
  {
   "cell_type": "code",
   "execution_count": 44,
   "metadata": {},
   "outputs": [
    {
     "ename": "SyntaxError",
     "evalue": "invalid syntax (<ipython-input-44-c961df62caa1>, line 1)",
     "output_type": "error",
     "traceback": [
      "\u001b[0;36m  File \u001b[0;32m\"<ipython-input-44-c961df62caa1>\"\u001b[0;36m, line \u001b[0;32m1\u001b[0m\n\u001b[0;31m    remove_tags(<p>Click '<a href=\"http://www.meetup.com/account\"><strong>Account</strong></a>' in the upper right-hand corner of your screen to head to your Account page. <br> <br> From the <strong>'General'</strong>)\u001b[0m\n\u001b[0m                ^\u001b[0m\n\u001b[0;31mSyntaxError\u001b[0m\u001b[0;31m:\u001b[0m invalid syntax\n"
     ]
    }
   ],
   "source": [
    "remove_tags(<p>Click '<a href=\"http://www.meetup.com/account\"><strong>Account</strong></a>' in the upper right-hand corner of your screen to head to your Account page. <br> <br> From the <strong>'General'</strong>)"
   ]
  },
  {
   "cell_type": "code",
   "execution_count": null,
   "metadata": {},
   "outputs": [],
   "source": [
    "TAG_RE = re.compile(r'<[^>]+>')\n",
    "\n",
    "def remove_tags(text):\n",
    "    return TAG_RE.sub('', text)"
   ]
  }
 ],
 "metadata": {
  "kernelspec": {
   "display_name": "Python 3",
   "language": "python",
   "name": "python3"
  },
  "language_info": {
   "codemirror_mode": {
    "name": "ipython",
    "version": 3
   },
   "file_extension": ".py",
   "mimetype": "text/x-python",
   "name": "python",
   "nbconvert_exporter": "python",
   "pygments_lexer": "ipython3",
   "version": "3.6.5"
  }
 },
 "nbformat": 4,
 "nbformat_minor": 2
}
